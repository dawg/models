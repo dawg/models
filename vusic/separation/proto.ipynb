{
 "cells": [
  {
   "cell_type": "code",
   "execution_count": 1,
   "metadata": {},
   "outputs": [],
   "source": [
    "# imports\n",
    "import numpy as np\n",
    "import os\n",
    "import tqdm\n",
    "import matplotlib.pyplot as plt\n",
    "import torch\n",
    "from torch.utils.data import DataLoader\n",
    "from vusic.utils.separation_dataset import SeparationDataset\n",
    "from vusic.utils.transforms import STFT, ISTFT\n",
    "from torch.autograd import Variable"
   ]
  },
  {
   "cell_type": "code",
   "execution_count": 2,
   "metadata": {},
   "outputs": [
    {
     "name": "stdout",
     "output_type": "stream",
     "text": [
      "Training set contains 100 samples.\n",
      "Testing set contains 50 samples.\n"
     ]
    }
   ],
   "source": [
    "# init dataset\n",
    "HOME = os.path.expanduser(\"~\")\n",
    "TEST = os.path.join(HOME, \"storage\", \"separation\", \"pt_f_test\")\n",
    "TRAIN = os.path.join(HOME, \"storage\", \"separation\", \"pt_f_train\")\n",
    "train_ds = SeparationDataset(TRAIN)\n",
    "test_ds = SeparationDataset(TEST)\n",
    "print(f\"Training set contains {len(train_ds)} samples.\")\n",
    "print(f\"Testing set contains {len(test_ds)} samples.\")"
   ]
  },
  {
   "cell_type": "code",
   "execution_count": 18,
   "metadata": {},
   "outputs": [
    {
     "name": "stdout",
     "output_type": "stream",
     "text": [
      "torch.Size([1, 1, 512, 16843]), torch.Size([1, 1, 512, 16843]), torch.Size([1, 1, 16843])\n",
      "torch.Size([1, 1, 512, 16843]), torch.Size([1, 1, 512, 16843]), torch.Size([1, 1, 16843])\n"
     ]
    },
    {
     "data": {
      "image/png": "[encoded data removed]",
      "text/plain": [
       "<Figure size 432x288 with 2 Axes>"
      ]
     },
     "metadata": {
      "needs_background": "light"
     },
     "output_type": "display_data"
    }
   ],
   "source": [
    "# sample viewer\n",
    "idx = 0\n",
    "\n",
    "sample = train_ds[idx]\n",
    "\n",
    "print(f\"{sample['mix'][0].shape}, {sample['mix'][1].shape}, {sample['mix'][2].shape}\")\n",
    "      \n",
    "magnitude, phase, ac = sample['mix']\n",
    "      \n",
    "w_size = 512\n",
    "w_no = 10\n",
    "      \n",
    "f, subplot = plt.subplots(2, sharex=True)\n",
    "      \n",
    "subplot[0].set_title(\"STFT Sample: {}\".format(train_ds.filenames[idx]))\n",
    "subplot[0].plot(range(w_size), np.transpose(magnitude.detach()[0, :, :, w_no].numpy()))\n",
    "subplot[0].set_xlim([0, w_size]);\n",
    "subplot[0].set_ylabel(\"STFT Mix (Magnitude)\")\n",
    "subplot[1].plot(range(w_size), np.transpose(phase.detach()[0, :, :, w_no].numpy()))\n",
    "subplot[1].set_ylabel(\"STFT Mix (Phase)\")\n",
    "      \n",
    "plt.show()"
   ]
  },
  {
   "cell_type": "code",
   "execution_count": 18,
   "metadata": {},
   "outputs": [],
   "source": [
    "# configuration\n",
    "\n",
    "dtype = torch.float\n",
    "\n",
    "device = torch.device(\"cpu\") # Uncomment this to run on CPU\n",
    "# device = torch.device(\"cuda:0\") # Uncomment this to run on GPU\n",
    "\n",
    "# XXX can probably pass num_workers=4\n",
    "# we also need to use a batch size of 1 since we have a dimension mismatch \n",
    "# (i.e. there's a different amount of samples depending on the song)\n",
    "dataloader = DataLoader(train_ds, batch_size=1, shuffle=True)\n",
    "testloader = DataLoader(test_ds, batch_size=1, shuffle=True)"
   ]
  },
  {
   "cell_type": "code",
   "execution_count": null,
   "metadata": {},
   "outputs": [],
   "source": [
    "# hyperparams\n",
    "\n",
    "\n"
   ]
  },
  {
   "cell_type": "code",
   "execution_count": 5,
   "metadata": {},
   "outputs": [
    {
     "name": "stdout",
     "output_type": "stream",
     "text": [
      "0 torch.Size([1, 1, 11353088, 2]) torch.Size([1, 1, 11353088, 2])\n",
      "1 torch.Size([1, 1, 1523712, 2]) torch.Size([1, 1, 1523712, 2])\n",
      "2 torch.Size([1, 1, 11659264, 2]) torch.Size([1, 1, 11659264, 2])\n",
      "3 torch.Size([1, 1, 9014272, 2]) torch.Size([1, 1, 9014272, 2])\n",
      "4 torch.Size([1, 1, 8011776, 2]) torch.Size([1, 1, 8011776, 2])\n",
      "5 torch.Size([1, 1, 9739264, 2]) torch.Size([1, 1, 9739264, 2])\n",
      "6 torch.Size([1, 1, 10175488, 2]) torch.Size([1, 1, 10175488, 2])\n",
      "7 torch.Size([1, 1, 8914944, 2]) torch.Size([1, 1, 8914944, 2])\n",
      "8 torch.Size([1, 1, 761856, 2]) torch.Size([1, 1, 761856, 2])\n",
      "9 torch.Size([1, 1, 10935296, 2]) torch.Size([1, 1, 10935296, 2])\n",
      "10 torch.Size([1, 1, 10536960, 2]) torch.Size([1, 1, 10536960, 2])\n",
      "11 torch.Size([1, 1, 10438656, 2]) torch.Size([1, 1, 10438656, 2])\n",
      "12 torch.Size([1, 1, 10222592, 2]) torch.Size([1, 1, 10222592, 2])\n",
      "13 torch.Size([1, 1, 13972480, 2]) torch.Size([1, 1, 13972480, 2])\n",
      "14 torch.Size([1, 1, 9300992, 2]) torch.Size([1, 1, 9300992, 2])\n",
      "15 torch.Size([1, 1, 5019648, 2]) torch.Size([1, 1, 5019648, 2])\n",
      "16 torch.Size([1, 1, 12756992, 2]) torch.Size([1, 1, 12756992, 2])\n",
      "17 torch.Size([1, 1, 7552000, 2]) torch.Size([1, 1, 7552000, 2])\n",
      "18 torch.Size([1, 1, 13669376, 2]) torch.Size([1, 1, 13669376, 2])\n",
      "19 torch.Size([1, 1, 569344, 2]) torch.Size([1, 1, 569344, 2])\n",
      "20 torch.Size([1, 1, 8443904, 2]) torch.Size([1, 1, 8443904, 2])\n",
      "21 torch.Size([1, 1, 7433216, 2]) torch.Size([1, 1, 7433216, 2])\n",
      "22 torch.Size([1, 1, 9256960, 2]) torch.Size([1, 1, 9256960, 2])\n",
      "23 torch.Size([1, 1, 12251136, 2]) torch.Size([1, 1, 12251136, 2])\n",
      "24 torch.Size([1, 1, 9061376, 2]) torch.Size([1, 1, 9061376, 2])\n",
      "25 torch.Size([1, 1, 1619968, 2]) torch.Size([1, 1, 1619968, 2])\n",
      "26 torch.Size([1, 1, 8338432, 2]) torch.Size([1, 1, 8338432, 2])\n",
      "27 torch.Size([1, 1, 8262656, 2]) torch.Size([1, 1, 8262656, 2])\n",
      "28 torch.Size([1, 1, 7016448, 2]) torch.Size([1, 1, 7016448, 2])\n",
      "29 torch.Size([1, 1, 12459008, 2]) torch.Size([1, 1, 12459008, 2])\n",
      "30 torch.Size([1, 1, 19186688, 2]) torch.Size([1, 1, 19186688, 2])\n",
      "31 torch.Size([1, 1, 18578432, 2]) torch.Size([1, 1, 18578432, 2])\n",
      "32 torch.Size([1, 1, 1260544, 2]) torch.Size([1, 1, 1260544, 2])\n",
      "33 torch.Size([1, 1, 9159680, 2]) torch.Size([1, 1, 9159680, 2])\n",
      "34 torch.Size([1, 1, 10695680, 2]) torch.Size([1, 1, 10695680, 2])\n",
      "35 torch.Size([1, 1, 10893312, 2]) torch.Size([1, 1, 10893312, 2])\n",
      "36 torch.Size([1, 1, 12490752, 2]) torch.Size([1, 1, 12490752, 2])\n",
      "37 torch.Size([1, 1, 13381632, 2]) torch.Size([1, 1, 13381632, 2])\n",
      "38 torch.Size([1, 1, 27711488, 2]) torch.Size([1, 1, 27711488, 2])\n",
      "39 torch.Size([1, 1, 11259904, 2]) torch.Size([1, 1, 11259904, 2])\n",
      "40 torch.Size([1, 1, 8459264, 2]) torch.Size([1, 1, 8459264, 2])\n",
      "41 torch.Size([1, 1, 14310400, 2]) torch.Size([1, 1, 14310400, 2])\n",
      "42 torch.Size([1, 1, 13898752, 2]) torch.Size([1, 1, 13898752, 2])\n",
      "43 torch.Size([1, 1, 10645504, 2]) torch.Size([1, 1, 10645504, 2])\n",
      "44 torch.Size([1, 1, 11426816, 2]) torch.Size([1, 1, 11426816, 2])\n",
      "45 torch.Size([1, 1, 866304, 2]) torch.Size([1, 1, 866304, 2])\n",
      "46 torch.Size([1, 1, 1135616, 2]) torch.Size([1, 1, 1135616, 2])\n",
      "47 torch.Size([1, 1, 7299072, 2]) torch.Size([1, 1, 7299072, 2])\n",
      "48 torch.Size([1, 1, 11293696, 2]) torch.Size([1, 1, 11293696, 2])\n",
      "49 torch.Size([1, 1, 761856, 2]) torch.Size([1, 1, 761856, 2])\n",
      "50 torch.Size([1, 1, 1613824, 2]) torch.Size([1, 1, 1613824, 2])\n",
      "51 torch.Size([1, 1, 18192384, 2]) torch.Size([1, 1, 18192384, 2])\n",
      "52 torch.Size([1, 1, 15739904, 2]) torch.Size([1, 1, 15739904, 2])\n",
      "53 torch.Size([1, 1, 14368768, 2]) torch.Size([1, 1, 14368768, 2])\n",
      "54 torch.Size([1, 1, 13300736, 2]) torch.Size([1, 1, 13300736, 2])\n",
      "55 torch.Size([1, 1, 8895488, 2]) torch.Size([1, 1, 8895488, 2])\n",
      "56 torch.Size([1, 1, 10489856, 2]) torch.Size([1, 1, 10489856, 2])\n",
      "57 torch.Size([1, 1, 11486208, 2]) torch.Size([1, 1, 11486208, 2])\n",
      "58 torch.Size([1, 1, 10260480, 2]) torch.Size([1, 1, 10260480, 2])\n",
      "59 torch.Size([1, 1, 1837056, 2]) torch.Size([1, 1, 1837056, 2])\n",
      "60 torch.Size([1, 1, 11164672, 2]) torch.Size([1, 1, 11164672, 2])\n",
      "61 torch.Size([1, 1, 11218944, 2]) torch.Size([1, 1, 11218944, 2])\n",
      "62 torch.Size([1, 1, 12604416, 2]) torch.Size([1, 1, 12604416, 2])\n",
      "63 torch.Size([1, 1, 13319168, 2]) torch.Size([1, 1, 13319168, 2])\n",
      "64 torch.Size([1, 1, 12128256, 2]) torch.Size([1, 1, 12128256, 2])\n",
      "65 torch.Size([1, 1, 9384960, 2]) torch.Size([1, 1, 9384960, 2])\n",
      "66 torch.Size([1, 1, 13000704, 2]) torch.Size([1, 1, 13000704, 2])\n",
      "67 torch.Size([1, 1, 9888768, 2]) torch.Size([1, 1, 9888768, 2])\n",
      "68 torch.Size([1, 1, 6471680, 2]) torch.Size([1, 1, 6471680, 2])\n",
      "69 torch.Size([1, 1, 7356416, 2]) torch.Size([1, 1, 7356416, 2])\n",
      "70 torch.Size([1, 1, 10053632, 2]) torch.Size([1, 1, 10053632, 2])\n",
      "71 torch.Size([1, 1, 10479616, 2]) torch.Size([1, 1, 10479616, 2])\n",
      "72 torch.Size([1, 1, 15669248, 2]) torch.Size([1, 1, 15669248, 2])\n",
      "73 torch.Size([1, 1, 7204864, 2]) torch.Size([1, 1, 7204864, 2])\n",
      "74 torch.Size([1, 1, 10670080, 2]) torch.Size([1, 1, 10670080, 2])\n",
      "75 torch.Size([1, 1, 10745856, 2]) torch.Size([1, 1, 10745856, 2])\n",
      "76 torch.Size([1, 1, 10941440, 2]) torch.Size([1, 1, 10941440, 2])\n",
      "77 torch.Size([1, 1, 12988416, 2]) torch.Size([1, 1, 12988416, 2])\n",
      "78 torch.Size([1, 1, 11392000, 2]) torch.Size([1, 1, 11392000, 2])\n",
      "79 torch.Size([1, 1, 9635840, 2]) torch.Size([1, 1, 9635840, 2])\n",
      "80 torch.Size([1, 1, 17277952, 2]) torch.Size([1, 1, 17277952, 2])\n",
      "81 torch.Size([1, 1, 1595392, 2]) torch.Size([1, 1, 1595392, 2])\n",
      "82 torch.Size([1, 1, 5494784, 2]) torch.Size([1, 1, 5494784, 2])\n",
      "83 torch.Size([1, 1, 11446272, 2]) torch.Size([1, 1, 11446272, 2])\n",
      "84 torch.Size([1, 1, 18461696, 2]) torch.Size([1, 1, 18461696, 2])\n",
      "85 torch.Size([1, 1, 7402496, 2]) torch.Size([1, 1, 7402496, 2])\n",
      "86 torch.Size([1, 1, 11821056, 2]) torch.Size([1, 1, 11821056, 2])\n",
      "87 torch.Size([1, 1, 8671232, 2]) torch.Size([1, 1, 8671232, 2])\n",
      "88 torch.Size([1, 1, 11320320, 2]) torch.Size([1, 1, 11320320, 2])\n",
      "89 torch.Size([1, 1, 12280832, 2]) torch.Size([1, 1, 12280832, 2])\n",
      "90 torch.Size([1, 1, 7641088, 2]) torch.Size([1, 1, 7641088, 2])\n",
      "91 torch.Size([1, 1, 8741888, 2]) torch.Size([1, 1, 8741888, 2])\n",
      "92 torch.Size([1, 1, 17575936, 2]) torch.Size([1, 1, 17575936, 2])\n",
      "93 torch.Size([1, 1, 7728128, 2]) torch.Size([1, 1, 7728128, 2])\n",
      "94 torch.Size([1, 1, 3332096, 2]) torch.Size([1, 1, 3332096, 2])\n",
      "95 torch.Size([1, 1, 22680576, 2]) torch.Size([1, 1, 22680576, 2])\n",
      "96 torch.Size([1, 1, 8624128, 2]) torch.Size([1, 1, 8624128, 2])\n",
      "97 torch.Size([1, 1, 8407040, 2]) torch.Size([1, 1, 8407040, 2])\n",
      "98 torch.Size([1, 1, 12779520, 2]) torch.Size([1, 1, 12779520, 2])\n",
      "99 torch.Size([1, 1, 7788544, 2]) torch.Size([1, 1, 7788544, 2])\n"
     ]
    }
   ],
   "source": [
    "# main training loop\n",
    "for i, sample in enumerate(dataloader):\n",
    "    # do something here. For now we'll just print the sample\n",
    "    print(i, sample['mix'].size(), sample['vocals'].size())"
   ]
  },
  {
   "cell_type": "code",
   "execution_count": null,
   "metadata": {},
   "outputs": [],
   "source": []
  },
  {
   "cell_type": "code",
   "execution_count": null,
   "metadata": {},
   "outputs": [],
   "source": []
  }
 ],
 "metadata": {
  "kernelspec": {
   "display_name": "Python 3",
   "language": "python",
   "name": "python3"
  },
  "language_info": {
   "codemirror_mode": {
    "name": "ipython",
    "version": 3
   },
   "file_extension": ".py",
   "mimetype": "text/x-python",
   "name": "python",
   "nbconvert_exporter": "python",
   "pygments_lexer": "ipython3",
   "version": "3.6.3"
  }
 },
 "nbformat": 4,
 "nbformat_minor": 2
}
